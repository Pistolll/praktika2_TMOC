{
 "cells": [
  {
   "cell_type": "code",
   "execution_count": null,
   "metadata": {
    "id": "yY-fKZvTpgXt",
    "tags": []
   },
   "outputs": [],
   "source": [
    "import numpy as np\n",
    "import pandas as pd"
   ]
  },
  {
   "cell_type": "code",
   "execution_count": null,
   "metadata": {
    "id": "FCQIKFrzps2V",
    "tags": []
   },
   "outputs": [],
   "source": [
    "# use mushroom dataset"
   ]
  },
  {
   "cell_type": "code",
   "execution_count": null,
   "metadata": {
    "id": "EdQsVbuops5u",
    "tags": []
   },
   "outputs": [],
   "source": [
    "df = pd.read_csv('mushrooms.csv')"
   ]
  },
  {
   "cell_type": "code",
   "execution_count": null,
   "metadata": {
    "colab": {
     "base_uri": "https://localhost:8080/",
     "height": 266
    },
    "id": "H1IvsKBvps7S",
    "outputId": "c6ac21ed-9991-4566-c22e-d537d031537b",
    "tags": []
   },
   "outputs": [],
   "source": [
    "df.head()"
   ]
  },
  {
   "cell_type": "code",
   "execution_count": null,
   "metadata": {
    "colab": {
     "base_uri": "https://localhost:8080/"
    },
    "id": "q1IvcMfBps-S",
    "outputId": "0b66c6c1-d4e1-4ae6-9da0-42c8e0a506c4"
   },
   "outputs": [],
   "source": [
    "df.shape"
   ]
  },
  {
   "cell_type": "code",
   "execution_count": null,
   "metadata": {
    "id": "ef5nr6Gbps_7",
    "tags": []
   },
   "outputs": [],
   "source": [
    "# convert in numeric data\n",
    "from sklearn.preprocessing import LabelEncoder\n",
    "from sklearn.model_selection import train_test_split"
   ]
  },
  {
   "cell_type": "code",
   "execution_count": null,
   "metadata": {
    "id": "-aND6HDmptC_",
    "tags": []
   },
   "outputs": [],
   "source": [
    "le = LabelEncoder()"
   ]
  },
  {
   "cell_type": "code",
   "execution_count": null,
   "metadata": {
    "id": "ayFoK-JUptEz",
    "tags": []
   },
   "outputs": [],
   "source": [
    "ds = df.apply(func=le.fit_transform) # this will be applied to each column"
   ]
  },
  {
   "cell_type": "code",
   "execution_count": null,
   "metadata": {
    "colab": {
     "base_uri": "https://localhost:8080/",
     "height": 266
    },
    "id": "Vc-3vexdptIm",
    "outputId": "8425df1e-769c-491d-d24b-473dc0c5a187",
    "tags": []
   },
   "outputs": [],
   "source": [
    "ds.head()"
   ]
  },
  {
   "cell_type": "code",
   "execution_count": null,
   "metadata": {
    "id": "xib8q89lptLj",
    "tags": []
   },
   "outputs": [],
   "source": [
    "data = ds.values\n",
    "X = data[:, 1:]\n",
    "y = data[:, 0]"
   ]
  },
  {
   "cell_type": "code",
   "execution_count": null,
   "metadata": {
    "colab": {
     "base_uri": "https://localhost:8080/"
    },
    "id": "ii0U7IrTps03",
    "outputId": "b15cd947-e2fa-4bf4-9f5d-050847a3ec61",
    "tags": []
   },
   "outputs": [],
   "source": [
    "X.shape, y.shape"
   ]
  },
  {
   "cell_type": "code",
   "execution_count": null,
   "metadata": {
    "id": "mUULDEIjqJi8",
    "tags": []
   },
   "outputs": [],
   "source": [
    "X_train, X_test, y_train, y_test = train_test_split(X, y, test_size=0.33, random_state=42)"
   ]
  },
  {
   "cell_type": "markdown",
   "metadata": {
    "id": "AB6zsncEqPiQ"
   },
   "source": [
    "# Custom NB"
   ]
  },
  {
   "cell_type": "code",
   "execution_count": null,
   "metadata": {
    "id": "KWiXyqnGqJu0",
    "tags": []
   },
   "outputs": [],
   "source": [
    "class CustomNB:\n",
    "    def fit(self, X, y):\n",
    "        self.X_train = X\n",
    "        self.y_train = y\n",
    "        \n",
    "    # label = which class you want this prob for\n",
    "    def prior_prob(self, label): \n",
    "        total = self.y_train.shape[0]\n",
    "        class_examples = np.sum(self.y_train == label)\n",
    "        return class_examples / float(total)  # python 2\n",
    "    \n",
    "    # P(Xi=red|y=label) - ith feature (feature col = i) for a single example\n",
    "    def conditional_prob(self, feature_col, feature_val, label):\n",
    "        # out of all the examples, what mushrooms have feature as feature_val in the feature_col that belongs to that class label\n",
    "        X_filtered = self.X_train[self.y_train==label] # all the examples in class label\n",
    "        numerator = np.sum(X_filtered[:, feature_col] == feature_val)\n",
    "        denominator = len(X_filtered)\n",
    "        return numerator / denominator\n",
    "    \n",
    "    # we are going to do this for all the 22 features that we have for each example\n",
    "    def predict_point(self, X_test):\n",
    "        # X_test is a single example with n features\n",
    "        classes = np.unique(self.y_train) # By default from 0\n",
    "        n_features = self.X_train.shape[1]\n",
    "        post_pro = []\n",
    "        # post prob for each class\n",
    "        for label in classes:\n",
    "            # post_prob = prior * likelihood\n",
    "            likehood = 1.0\n",
    "            for feature in range(n_features):\n",
    "                cond = self.conditional_prob(feature, X_test[feature], label)\n",
    "                likehood *= cond\n",
    "            prior = self.prior_prob(label)\n",
    "            post = prior * likehood \n",
    "            post_pro.append(post)\n",
    "        \n",
    "        # ans = max value from all labels\n",
    "        return np.argmax(post_pro) # return the index of the largest value in array\n",
    "    \n",
    "    def predict(self, X_test):\n",
    "        result = []\n",
    "        for point in X_test:\n",
    "            result.append(self.predict_point(point))\n",
    "        return np.array(result)\n",
    "    \n",
    "    def score(self, X_test, y_test):\n",
    "        return (self.predict(X_test) == y_test).mean()"
   ]
  },
  {
   "cell_type": "code",
   "execution_count": null,
   "metadata": {
    "id": "ceaAduHFqJxB",
    "tags": []
   },
   "outputs": [],
   "source": [
    "model = CustomNB()"
   ]
  },
  {
   "cell_type": "code",
   "execution_count": null,
   "metadata": {
    "id": "JjwPdKIwqJ04",
    "tags": []
   },
   "outputs": [],
   "source": [
    "model.fit(X_train, y_train)"
   ]
  },
  {
   "cell_type": "code",
   "execution_count": null,
   "metadata": {
    "colab": {
     "base_uri": "https://localhost:8080/"
    },
    "id": "LcLQJq6yqJ5u",
    "outputId": "5a778772-93d0-49d0-861c-42e935a4fa65",
    "tags": []
   },
   "outputs": [],
   "source": [
    "model.predict(X_test[:10])"
   ]
  },
  {
   "cell_type": "code",
   "execution_count": null,
   "metadata": {
    "colab": {
     "base_uri": "https://localhost:8080/"
    },
    "id": "L8FQAPVAqJ91",
    "outputId": "ec8fd990-bef2-478f-8820-386386ea54a1",
    "tags": []
   },
   "outputs": [],
   "source": [
    "y_test[:10]"
   ]
  },
  {
   "cell_type": "code",
   "execution_count": null,
   "metadata": {
    "colab": {
     "base_uri": "https://localhost:8080/"
    },
    "id": "mGyzgvU4qKBE",
    "outputId": "1f756b62-d751-44e6-ac78-ed19b8187691",
    "tags": []
   },
   "outputs": [],
   "source": [
    "model.score(X_test, y_test)"
   ]
  },
  {
   "cell_type": "code",
   "execution_count": null,
   "metadata": {
    "id": "Dkd0g-2OqJ4m"
   },
   "outputs": [],
   "source": []
  },
  {
   "cell_type": "code",
   "execution_count": null,
   "metadata": {
    "id": "U_ZD0kyYqJzn"
   },
   "outputs": [],
   "source": []
  }
 ],
 "metadata": {
  "colab": {
   "authorship_tag": "ABX9TyPsFoK19GEfJztUqnByFK+v",
   "include_colab_link": true,
   "name": "Untitled5.ipynb",
   "provenance": [],
   "toc_visible": true
  },
  "kernelspec": {
   "display_name": "Python 3",
   "language": "python",
   "name": "python3"
  },
  "language_info": {
   "codemirror_mode": {
    "name": "ipython",
    "version": 3
   },
   "file_extension": ".py",
   "mimetype": "text/x-python",
   "name": "python",
   "nbconvert_exporter": "python",
   "pygments_lexer": "ipython3",
   "version": "3.8.10"
  },
  "vscode": {
   "interpreter": {
    "hash": "916dbcbb3f70747c44a77c7bcd40155683ae19c65e1c03b4aa3499c5328201f1"
   }
  }
 },
 "nbformat": 4,
 "nbformat_minor": 4
}
